{
 "cells": [
  {
   "cell_type": "code",
   "execution_count": 31,
   "id": "4dbdf29d",
   "metadata": {},
   "outputs": [],
   "source": [
    "import sys\n",
    "sys.path.append('src')\n",
    "import matplotlib.pyplot as plt\n",
    "from sts_sensor import StsSensor\n",
    "import numpy as np\n",
    "from fitters import *\n",
    "\n",
    "from boost_histogram import Histogram\n",
    "from boost_histogram.axis import Regular\n"
   ]
  },
  {
   "cell_type": "code",
   "execution_count": 32,
   "id": "fb417eb0",
   "metadata": {},
   "outputs": [],
   "source": [
    "data = []\n",
    "with open('measurements.csv', 'r') as f:\n",
    "    lines = f.readlines()\n",
    "    for line in lines:\n",
    "        if \"None\" not in line:\n",
    "            values = line.split(',')\n",
    "            hits = [[float(x),float(y),float(z)] for x, y, z in zip(values[0::3], values[1::3], values[2::3])]\n",
    "\n",
    "            data.append(hits)"
   ]
  },
  {
   "cell_type": "code",
   "execution_count": 33,
   "id": "0ef6837e",
   "metadata": {},
   "outputs": [
    {
     "data": {
      "text/plain": [
       "(703, 8, 3)"
      ]
     },
     "execution_count": 33,
     "metadata": {},
     "output_type": "execute_result"
    }
   ],
   "source": [
    "data = np.array(data)\n",
    "data.shape"
   ]
  },
  {
   "cell_type": "code",
   "execution_count": null,
   "id": "6b29d9e9",
   "metadata": {},
   "outputs": [],
   "source": [
    "matrices = {}\n",
    "for s in enumerate(sensors):\n",
    "    matrices[s.idx] = StsSensor(s).get_matrix()\n",
    "\n",
    "def glb_chi2(align_params):\n",
    "    theta = align_params[-2]\n",
    "    phi = align_params[-1]\n",
    "\n",
    "    Rz = np.array([\n",
    "        [np.cos(phi), -np.sin(phi), 0],\n",
    "        [np.sin(phi),  np.cos(phi), 0],\n",
    "        [0,            0,           1]\n",
    "    ])\n",
    "\n",
    "    Ry = np.array([\n",
    "        [np.cos(theta), 0, np.sin(theta)],\n",
    "        [0,             1, 0],\n",
    "        [-np.sin(theta), 0, np.cos(theta)]\n",
    "    ])\n",
    "\n",
    "    R = Rz @ Ry\n",
    "\n",
    "    T = np.array(align_params[0:3])\n",
    "\n",
    "    chi2 = 0\n",
    "    for track in data:\n",
    "        track = R @ track + T\n",
    "        r0, tx, ty, residuals = fit_pca(track)\n",
    "        chi2 += np.sum(residuals**2)\n",
    "    return chi2"
   ]
  },
  {
   "cell_type": "code",
   "execution_count": 40,
   "id": "27f6fec7",
   "metadata": {},
   "outputs": [
    {
     "ename": "ValueError",
     "evalue": "matmul: Input operand 1 has a mismatch in its core dimension 0, with gufunc signature (n?,k),(k,m?)->(n?,m?) (size 8 is different from 3)",
     "output_type": "error",
     "traceback": [
      "\u001b[0;31m---------------------------------------------------------------------------\u001b[0m",
      "\u001b[0;31mValueError\u001b[0m                                Traceback (most recent call last)",
      "Cell \u001b[0;32mIn[40], line 2\u001b[0m\n\u001b[1;32m      1\u001b[0m align_params \u001b[38;5;241m=\u001b[39m np\u001b[38;5;241m.\u001b[39mzeros(\u001b[38;5;241m5\u001b[39m)\n\u001b[0;32m----> 2\u001b[0m \u001b[43mglb_chi2\u001b[49m\u001b[43m(\u001b[49m\u001b[43malign_params\u001b[49m\u001b[43m)\u001b[49m\n",
      "Cell \u001b[0;32mIn[39], line 23\u001b[0m, in \u001b[0;36mglb_chi2\u001b[0;34m(align_params)\u001b[0m\n\u001b[1;32m     21\u001b[0m chi2 \u001b[38;5;241m=\u001b[39m \u001b[38;5;241m0\u001b[39m\n\u001b[1;32m     22\u001b[0m \u001b[38;5;28;01mfor\u001b[39;00m track \u001b[38;5;129;01min\u001b[39;00m data:\n\u001b[0;32m---> 23\u001b[0m     track \u001b[38;5;241m=\u001b[39m \u001b[43mR\u001b[49m\u001b[43m \u001b[49m\u001b[38;5;241;43m@\u001b[39;49m\u001b[43m \u001b[49m\u001b[43mtrack\u001b[49m \u001b[38;5;241m+\u001b[39m T\n\u001b[1;32m     24\u001b[0m     r0, tx, ty, residuals \u001b[38;5;241m=\u001b[39m fit_pca(track)\n\u001b[1;32m     25\u001b[0m     chi2 \u001b[38;5;241m+\u001b[39m\u001b[38;5;241m=\u001b[39m np\u001b[38;5;241m.\u001b[39msum(residuals\u001b[38;5;241m*\u001b[39m\u001b[38;5;241m*\u001b[39m\u001b[38;5;241m2\u001b[39m)\n",
      "\u001b[0;31mValueError\u001b[0m: matmul: Input operand 1 has a mismatch in its core dimension 0, with gufunc signature (n?,k),(k,m?)->(n?,m?) (size 8 is different from 3)"
     ]
    }
   ],
   "source": [
    "align_params = np.zeros(5)\n",
    "glb_chi2(align_params)"
   ]
  },
  {
   "cell_type": "code",
   "execution_count": null,
   "id": "ebc2f217",
   "metadata": {},
   "outputs": [],
   "source": [
    "sensors = [StsSensor((0,0,10*i), 6, 0, 0, (0.1, 0.01, 0.0)) for i in range(8)]\n",
    "h_res_rho = [Histogram(Regular(100, -0.05, +0.05)) for _ in sensors]\n",
    "\n",
    "for track in data:\n",
    "    r0, tx, ty, residuals = fit_least_squares(track)\n",
    "    # print(residuals)\n",
    "    for sensor_idx, res in enumerate(residuals):\n",
    "        h_res_rho[sensor_idx].fill(res)\n",
    "\n",
    "fig, axes = plt.subplots(len(h_res_rho), 1, figsize=(4, 1 * len(h_res_rho)), sharex=True, gridspec_kw={'hspace': 0})\n",
    "for ax, hist in zip(axes, h_res_rho):\n",
    "    ax.bar(hist.axes[0].centers, hist.values(), width=hist.axes[0].widths, align='center')\n",
    "    ax.set_ylabel(\"\")\n",
    "    ax.grid(True)\n",
    "\n",
    "axes[-1].set_xlabel(\"Residual (cm)\")\n",
    "plt.tight_layout()\n"
   ]
  },
  {
   "cell_type": "code",
   "execution_count": null,
   "id": "72b81d42",
   "metadata": {},
   "outputs": [],
   "source": [
    "\n",
    "# Plotting the sensors edges in 3D space\n",
    "fig = plt.figure(figsize=(3, 3))\n",
    "ax = fig.add_subplot(111, projection='3d')\n",
    "for sensor in sensors:\n",
    "    ax.plot([sensor.x - sensor.dx/2, sensor.x + sensor.dx/2, sensor.x + sensor.dx/2, sensor.x - sensor.dx/2, sensor.x - sensor.dx/2],\n",
    "            [sensor.y - sensor.dy/2, sensor.y - sensor.dy/2, sensor.y + sensor.dy/2, sensor.y + sensor.dy/2, sensor.y - sensor.dy/2],\n",
    "            [sensor.z, sensor.z, sensor.z, sensor.z, sensor.z], color='blue', alpha=0.5)\n",
    "ax.set_xlabel('X (cm)')\n",
    "ax.set_ylabel('Y (cm)')\n",
    "ax.set_zlabel('Z (cm)')\n",
    "\n",
    "hits = data[5]\n",
    "\n",
    "# Plotting 3D space\n",
    "for hit in hits:\n",
    "    ax.plot([hit[0]], [hit[1]], [hit[2]], 'bo', label='Hit')\n",
    "    ax.set_xlabel('X (cm)')\n",
    "    ax.set_ylabel('Y (cm)')\n",
    "    ax.set_zlabel('Z (cm)')\n",
    "    # building the fitted line\n",
    "\n",
    "r0, tx, ty, residuals = fit_pca(hits)\n",
    "z = np.linspace(hits[0][2], hits[-1][2], 100)\n",
    "x = hits[0][0] + tx * (z - hits[0][0])\n",
    "y = hits[0][1] + ty * (z - hits[0][1])\n",
    "ax.plot(x, y, z, 'r-', label='Fitted Line')\n",
    "\n",
    "# Plotting 2D projections\n",
    "# Plot XZ projection\n",
    "plt.figure(figsize=(6,3))\n",
    "plt.subplot(1, 2, 1)\n",
    "plt.scatter([p[2] for p in hits], [p[0] for p in hits], label='Hits')\n",
    "plt.plot(z, x, 'r-', label='Fitted Line')\n",
    "plt.xlabel('Z (cm)')\n",
    "plt.ylabel('X (cm)')\n",
    "plt.title('XZ Projection')\n",
    "plt.legend()\n",
    "\n",
    "# Plot YZ projection\n",
    "plt.subplot(1, 2, 2)\n",
    "plt.scatter([p[2] for p in hits], [p[1] for p in hits], label='Hits')\n",
    "plt.plot(z, y, 'r-', label='Fitted Line')\n",
    "plt.xlabel('Z (cm)')\n",
    "plt.ylabel('Y (cm)')\n",
    "plt.title('YZ Projection')\n",
    "plt.legend()"
   ]
  },
  {
   "cell_type": "code",
   "execution_count": null,
   "id": "7f2fefb2",
   "metadata": {},
   "outputs": [],
   "source": []
  }
 ],
 "metadata": {
  "kernelspec": {
   "display_name": "alignment",
   "language": "python",
   "name": "python3"
  },
  "language_info": {
   "codemirror_mode": {
    "name": "ipython",
    "version": 3
   },
   "file_extension": ".py",
   "mimetype": "text/x-python",
   "name": "python",
   "nbconvert_exporter": "python",
   "pygments_lexer": "ipython3",
   "version": "3.8.10"
  }
 },
 "nbformat": 4,
 "nbformat_minor": 5
}
